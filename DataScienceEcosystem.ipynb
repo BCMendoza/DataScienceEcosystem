{
 "cells": [
  {
   "cell_type": "markdown",
   "id": "5b9cceb4-a468-4304-9574-42a91b113649",
   "metadata": {},
   "source": [
    "# Data Science Tools and Ecosystem"
   ]
  },
  {
   "cell_type": "markdown",
   "id": "37afc463-0b12-416c-9ff6-15d3633bf8ca",
   "metadata": {},
   "source": [
    "In this notebook, Data Science Tools and Ecosystem are summarized."
   ]
  },
  {
   "cell_type": "markdown",
   "id": "85b8fa1d-7e3e-4a6f-adc1-a55159d926ad",
   "metadata": {},
   "source": [
    "**Objectives:**\n",
    "- List popular languages for Data Science.\n",
    "- Overview of commonly used libraries in Data Science.\n",
    "- Introduction to Jupyter Notebook and its features."
   ]
  },
  {
   "cell_type": "markdown",
   "id": "04e1f6a9-31de-468f-bc33-9147e45e312a",
   "metadata": {},
   "source": [
    "Some of the popular languages that Data Scientists use are:"
   ]
  },
  {
   "cell_type": "markdown",
   "id": "2ff5d3a3-cc41-4141-83a0-8c50bc757141",
   "metadata": {
    "tags": []
   },
   "source": [
    "1. Python\n",
    "2. R\n",
    "3. SQL"
   ]
  },
  {
   "cell_type": "markdown",
   "id": "c8971ab2-a417-4cc7-bc2e-4cb28a08c6a0",
   "metadata": {
    "tags": []
   },
   "source": [
    "Some of the commonly used libraries used by Data Scientists include:"
   ]
  },
  {
   "cell_type": "markdown",
   "id": "7d5c8485-2bcb-4ab1-a492-4e7633a16ca9",
   "metadata": {},
   "source": [
    "1. NumPy\n",
    "2. Pandas\n",
    "3. Matplotlib"
   ]
  },
  {
   "cell_type": "markdown",
   "id": "01bbed13-1f31-4139-9b33-9817043b09a7",
   "metadata": {},
   "source": [
    "| Data Science Tools |\n",
    "|---------------------|\n",
    "| Jupyter Notebook    |\n",
    "| RStudio             |\n",
    "| Spyder              |\n"
   ]
  },
  {
   "cell_type": "markdown",
   "id": "77721713-4ba9-4284-893d-658d1a6617f1",
   "metadata": {},
   "source": [
    "### Below are a few examples of evaluating arithmetic expressions in Python"
   ]
  },
  {
   "cell_type": "code",
   "execution_count": null,
   "id": "872d660b-ea79-4cc5-8850-8f17c9583991",
   "metadata": {},
   "outputs": [],
   "source": [
    "# This is a simple arithmetic expression to multiply then add integers."
   ]
  },
  {
   "cell_type": "code",
   "execution_count": 3,
   "id": "f3be712b-0dd5-4e2a-a509-95b0e967a156",
   "metadata": {
    "tags": []
   },
   "outputs": [
    {
     "data": {
      "text/plain": [
       "17"
      ]
     },
     "execution_count": 3,
     "metadata": {},
     "output_type": "execute_result"
    }
   ],
   "source": [
    "(3*4)+5"
   ]
  },
  {
   "cell_type": "code",
   "execution_count": 5,
   "id": "93027e05-91a3-49ec-ad9e-ea1996659ff8",
   "metadata": {
    "tags": []
   },
   "outputs": [],
   "source": [
    "# This will convert 200 minutes to hours by dividing by 60."
   ]
  },
  {
   "cell_type": "code",
   "execution_count": 6,
   "id": "38555732-2612-40e3-89c5-1e02a143bd59",
   "metadata": {
    "tags": []
   },
   "outputs": [
    {
     "data": {
      "text/plain": [
       "3.3333333333333335"
      ]
     },
     "execution_count": 6,
     "metadata": {},
     "output_type": "execute_result"
    }
   ],
   "source": [
    "200 / 60"
   ]
  },
  {
   "cell_type": "markdown",
   "id": "1ed2b172-adec-41f0-bd29-629d1751e87e",
   "metadata": {},
   "source": [
    "## Author\n",
    "Byronne Mendoza\n"
   ]
  }
 ],
 "metadata": {
  "kernelspec": {
   "display_name": "Python",
   "language": "python",
   "name": "conda-env-python-py"
  },
  "language_info": {
   "codemirror_mode": {
    "name": "ipython",
    "version": 3
   },
   "file_extension": ".py",
   "mimetype": "text/x-python",
   "name": "python",
   "nbconvert_exporter": "python",
   "pygments_lexer": "ipython3",
   "version": "3.7.12"
  }
 },
 "nbformat": 4,
 "nbformat_minor": 5
}
